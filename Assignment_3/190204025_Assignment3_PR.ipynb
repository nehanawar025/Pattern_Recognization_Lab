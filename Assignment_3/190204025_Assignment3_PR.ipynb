{
  "nbformat": 4,
  "nbformat_minor": 0,
  "metadata": {
    "colab": {
      "provenance": []
    },
    "kernelspec": {
      "name": "python3",
      "display_name": "Python 3"
    },
    "language_info": {
      "name": "python"
    }
  },
  "cells": [
    {
      "cell_type": "code",
      "execution_count": null,
      "metadata": {
        "id": "tmQ0ujLsP7DN"
      },
      "outputs": [],
      "source": [
        "import pandas as pd\n",
        "import numpy as np\n",
        "import matplotlib.pyplot as plt"
      ]
    },
    {
      "cell_type": "code",
      "source": [
        "# Get the data\n",
        "!wget -O test.txt https://raw.githubusercontent.com/nehanawar025/Pattern_Recognization_Lab/main/Assignment_3/test_knn.txt\n",
        "!wget -O train.txt https://raw.githubusercontent.com/nehanawar025/Pattern_Recognization_Lab/main/Assignment_3/train_knn.txt"
      ],
      "metadata": {
        "id": "ujqWb5o5QQ2T",
        "colab": {
          "base_uri": "https://localhost:8080/"
        },
        "outputId": "acd32da1-5c41-4d7f-b01c-323f9b5bda23"
      },
      "execution_count": null,
      "outputs": [
        {
          "output_type": "stream",
          "name": "stdout",
          "text": [
            "--2023-12-29 12:58:49--  https://raw.githubusercontent.com/nehanawar025/Pattern_Recognization_Lab/main/Assignment_3/test_knn.txt\n",
            "Resolving raw.githubusercontent.com (raw.githubusercontent.com)... 185.199.110.133, 185.199.108.133, 185.199.109.133, ...\n",
            "Connecting to raw.githubusercontent.com (raw.githubusercontent.com)|185.199.110.133|:443... connected.\n",
            "HTTP request sent, awaiting response... 200 OK\n",
            "Length: 45 [text/plain]\n",
            "Saving to: ‘test.txt’\n",
            "\n",
            "\rtest.txt              0%[                    ]       0  --.-KB/s               \rtest.txt            100%[===================>]      45  --.-KB/s    in 0s      \n",
            "\n",
            "2023-12-29 12:58:49 (1.53 MB/s) - ‘test.txt’ saved [45/45]\n",
            "\n",
            "--2023-12-29 12:58:49--  https://raw.githubusercontent.com/nehanawar025/Pattern_Recognization_Lab/main/Assignment_3/train_knn.txt\n",
            "Resolving raw.githubusercontent.com (raw.githubusercontent.com)... 185.199.108.133, 185.199.110.133, 185.199.111.133, ...\n",
            "Connecting to raw.githubusercontent.com (raw.githubusercontent.com)|185.199.108.133|:443... connected.\n",
            "HTTP request sent, awaiting response... 200 OK\n",
            "Length: 98 [text/plain]\n",
            "Saving to: ‘train.txt’\n",
            "\n",
            "train.txt           100%[===================>]      98  --.-KB/s    in 0s      \n",
            "\n",
            "2023-12-29 12:58:49 (4.65 MB/s) - ‘train.txt’ saved [98/98]\n",
            "\n"
          ]
        }
      ]
    },
    {
      "cell_type": "code",
      "source": [
        "train_path = 'train.txt'\n",
        "test_path = 'test.txt'\n",
        "\n",
        "train = pd.read_csv(train_path,  sep = ',' , header = None)\n",
        "test = pd.read_csv(test_path,  sep = ',' , header = None)"
      ],
      "metadata": {
        "id": "rnzPG_U0VOLg"
      },
      "execution_count": null,
      "outputs": []
    },
    {
      "cell_type": "code",
      "source": [
        "# train"
      ],
      "metadata": {
        "id": "5eeclL-IWdUU"
      },
      "execution_count": null,
      "outputs": []
    },
    {
      "cell_type": "code",
      "source": [
        "# test"
      ],
      "metadata": {
        "id": "XWEjXMaxWeFe"
      },
      "execution_count": null,
      "outputs": []
    },
    {
      "cell_type": "code",
      "source": [
        "class_1 = train[train[2]==1]\n",
        "# class_1"
      ],
      "metadata": {
        "id": "nFxSwkC0WhRX"
      },
      "execution_count": null,
      "outputs": []
    },
    {
      "cell_type": "code",
      "source": [
        "class_2 = train[train[2]==2]\n",
        "# class_2"
      ],
      "metadata": {
        "id": "_eglZL_4ZMrh"
      },
      "execution_count": null,
      "outputs": []
    },
    {
      "cell_type": "markdown",
      "source": [
        "# # Plot"
      ],
      "metadata": {
        "id": "9svV953Ccx9P"
      }
    },
    {
      "cell_type": "code",
      "source": [
        "fig=plt.figure()\n",
        "ax=fig.add_axes([0,0,1,1])\n",
        "ax.scatter(class_1[0], class_1[1], color='blue', label=\"Class 1\")\n",
        "ax.scatter(class_2[0], class_2[1] , color='red', label=\"Class 2\")\n",
        "ax.set_xlabel('first Column')\n",
        "ax.set_ylabel('Second Column')\n",
        "ax.set_title('Scatter Plot for Class 1 and Class 2')\n",
        "plt.legend(loc=\"upper left\")\n",
        "plt.show()"
      ],
      "metadata": {
        "id": "lW8tn61pczda",
        "colab": {
          "base_uri": "https://localhost:8080/",
          "height": 582
        },
        "outputId": "dfad35be-465a-4ad0-bcd7-987b18cf4468"
      },
      "execution_count": null,
      "outputs": [
        {
          "output_type": "display_data",
          "data": {
            "text/plain": [
              "<Figure size 640x480 with 1 Axes>"
            ],
            "image/png": "[encoded data removed]"
          },
          "metadata": {}
        }
      ]
    },
    {
      "cell_type": "markdown",
      "source": [
        "## Sort Function"
      ],
      "metadata": {
        "id": "uZPRjaotgPA6"
      }
    },
    {
      "cell_type": "code",
      "source": [
        "def bubbleSort(array, target_label):\n",
        "    n = len(array)\n",
        "    for i in range(n):\n",
        "        for j in range(0, n - i - 1):\n",
        "            if array[j] > array[j + 1]:\n",
        "\n",
        "                array[j], array[j + 1] = array[j + 1], array[j]\n",
        "\n",
        "                target_label[j], target_label[j + 1] = target_label[j + 1], target_label[j]\n",
        "\n",
        "    return array\n"
      ],
      "metadata": {
        "id": "2HUMbzHTgXBB"
      },
      "execution_count": null,
      "outputs": []
    },
    {
      "cell_type": "markdown",
      "source": [
        "## Euclidian Distance"
      ],
      "metadata": {
        "id": "P2I3UkaBsJNX"
      }
    },
    {
      "cell_type": "code",
      "source": [
        "def calculate_distance(p,q):\n",
        "    global train\n",
        "    dist = []\n",
        "    target_label = list(train[2])\n",
        "    for x,y in zip(train[0], train[1]):\n",
        "        dist.append(((x-p)**2 +(y-q)**2))\n",
        "    dist = bubbleSort(dist,target_label)\n",
        "    return dist,target_label"
      ],
      "metadata": {
        "id": "Tjy9dpBEuAR0"
      },
      "execution_count": null,
      "outputs": []
    },
    {
      "cell_type": "code",
      "source": [
        "distances = []\n",
        "target_labels = []\n",
        "for i,j in zip(test[0], test[1]):\n",
        "    a, b = calculate_distance(i,j)\n",
        "    distances.append(a)\n",
        "    target_labels.append(b)"
      ],
      "metadata": {
        "id": "HQUq1lyVuk67"
      },
      "execution_count": null,
      "outputs": []
    },
    {
      "cell_type": "code",
      "source": [
        "test = np.array(test)\n",
        "# test"
      ],
      "metadata": {
        "id": "3r8FrUHgwjuY"
      },
      "execution_count": null,
      "outputs": []
    },
    {
      "cell_type": "code",
      "source": [
        "distances = np.array(distances)\n",
        "# distances"
      ],
      "metadata": {
        "id": "L3l_0DrZu7gX"
      },
      "execution_count": null,
      "outputs": []
    },
    {
      "cell_type": "code",
      "source": [
        "target_labels = np.array(target_labels)\n",
        "# target_labels"
      ],
      "metadata": {
        "id": "SMgQxkmSu9ox"
      },
      "execution_count": null,
      "outputs": []
    },
    {
      "cell_type": "markdown",
      "source": [
        "## Defining K"
      ],
      "metadata": {
        "id": "_bxMMPiswFhW"
      }
    },
    {
      "cell_type": "code",
      "source": [
        "k=int(input (\"Enter the value of k :\"))\n",
        "\n",
        "#k = 3"
      ],
      "metadata": {
        "id": "eqqjuv67vluL",
        "colab": {
          "base_uri": "https://localhost:8080/"
        },
        "outputId": "d5557fb7-6977-4f96-a54c-437b78a7f891"
      },
      "execution_count": null,
      "outputs": [
        {
          "name": "stdout",
          "output_type": "stream",
          "text": [
            "Enter the value of k :3\n"
          ]
        }
      ]
    },
    {
      "cell_type": "code",
      "source": [
        "len_t = len(test)   # 9"
      ],
      "metadata": {
        "id": "Midx-q7cuhzF"
      },
      "execution_count": null,
      "outputs": []
    },
    {
      "cell_type": "code",
      "source": [
        "output = []\n",
        "predicted_class_1 = []\n",
        "predicted_class_2 = []\n",
        "output_text = []"
      ],
      "metadata": {
        "id": "7VKmxRFvujpm"
      },
      "execution_count": null,
      "outputs": []
    },
    {
      "cell_type": "code",
      "source": [
        "for i in range(len_t):\n",
        "    count_1, count_2 = 0, 0\n",
        "\n",
        "    print('Test Point: ', *test[i])\n",
        "    txt = f'Test Point: {\", \".join(map(str, test[i]))}\\n'\n",
        "    output_text.append(txt)\n",
        "    for j in range(k):\n",
        "        print('Distance : ', distances[i][j], 'Class : ', target_labels[i][j])\n",
        "        s = 'Distance : '+ str(distances[i][j])  + '   Class : ' + str(target_labels[i][j]) + '\\n'\n",
        "        output_text.append(s)\n",
        "        if target_labels[i][j] == 1:\n",
        "            count_1 += 1\n",
        "        else:\n",
        "            count_2 += 1\n",
        "    if count_1 > count_2:\n",
        "        print('Predicted Class 1')\n",
        "        output_text.append('Predicted Class 1' + '\\n\\n')\n",
        "    else:\n",
        "        print('Predicted Class 2')\n",
        "        output_text.append('Predicted Class 2' + '\\n\\n')\n",
        "    print('\\n\\n')"
      ],
      "metadata": {
        "colab": {
          "base_uri": "https://localhost:8080/"
        },
        "id": "KtB3nKLevRBu",
        "outputId": "6bd3e5be-80e4-4e1d-a746-13ccf7e64435"
      },
      "execution_count": null,
      "outputs": [
        {
          "output_type": "stream",
          "name": "stdout",
          "text": [
            "Test Point:  3 7\n",
            "Distance :  9 Class :  1\n",
            "Distance :  9 Class :  2\n",
            "Distance :  10 Class :  1\n",
            "Predicted Class 1\n",
            "\n",
            "\n",
            "\n",
            "Test Point:  7 7\n",
            "Distance :  0 Class :  1\n",
            "Distance :  1 Class :  1\n",
            "Distance :  1 Class :  1\n",
            "Predicted Class 1\n",
            "\n",
            "\n",
            "\n",
            "Test Point:  4 3\n",
            "Distance :  0 Class :  2\n",
            "Distance :  1 Class :  2\n",
            "Distance :  1 Class :  2\n",
            "Predicted Class 2\n",
            "\n",
            "\n",
            "\n",
            "Test Point:  2 8\n",
            "Distance :  17 Class :  1\n",
            "Distance :  17 Class :  2\n",
            "Distance :  17 Class :  2\n",
            "Predicted Class 2\n",
            "\n",
            "\n",
            "\n",
            "Test Point:  3 5\n",
            "Distance :  1 Class :  2\n",
            "Distance :  2 Class :  2\n",
            "Distance :  4 Class :  2\n",
            "Predicted Class 2\n",
            "\n",
            "\n",
            "\n",
            "Test Point:  1 2\n",
            "Distance :  2 Class :  2\n",
            "Distance :  4 Class :  2\n",
            "Distance :  4 Class :  2\n",
            "Predicted Class 2\n",
            "\n",
            "\n",
            "\n",
            "Test Point:  4 8\n",
            "Distance :  5 Class :  1\n",
            "Distance :  8 Class :  1\n",
            "Distance :  10 Class :  1\n",
            "Predicted Class 1\n",
            "\n",
            "\n",
            "\n",
            "Test Point:  8 3\n",
            "Distance :  2 Class :  1\n",
            "Distance :  5 Class :  1\n",
            "Distance :  5 Class :  1\n",
            "Predicted Class 1\n",
            "\n",
            "\n",
            "\n",
            "Test Point:  8 4\n",
            "Distance :  1 Class :  1\n",
            "Distance :  2 Class :  1\n",
            "Distance :  4 Class :  1\n",
            "Predicted Class 1\n",
            "\n",
            "\n",
            "\n"
          ]
        }
      ]
    },
    {
      "cell_type": "code",
      "source": [
        "print(output_text)"
      ],
      "metadata": {
        "colab": {
          "base_uri": "https://localhost:8080/"
        },
        "id": "jgCl2_Jhovav",
        "outputId": "37bea6fd-cfb4-4cad-be08-b004315f9adc"
      },
      "execution_count": null,
      "outputs": [
        {
          "output_type": "stream",
          "name": "stdout",
          "text": [
            "['Test Point: 3, 7\\n', 'Distance : 9   Class : 1\\n', 'Distance : 9   Class : 2\\n', 'Distance : 10   Class : 1\\n', 'Predicted Class 1\\n\\n', 'Test Point: 7, 7\\n', 'Distance : 0   Class : 1\\n', 'Distance : 1   Class : 1\\n', 'Distance : 1   Class : 1\\n', 'Predicted Class 1\\n\\n', 'Test Point: 4, 3\\n', 'Distance : 0   Class : 2\\n', 'Distance : 1   Class : 2\\n', 'Distance : 1   Class : 2\\n', 'Predicted Class 2\\n\\n', 'Test Point: 2, 8\\n', 'Distance : 17   Class : 1\\n', 'Distance : 17   Class : 2\\n', 'Distance : 17   Class : 2\\n', 'Predicted Class 2\\n\\n', 'Test Point: 3, 5\\n', 'Distance : 1   Class : 2\\n', 'Distance : 2   Class : 2\\n', 'Distance : 4   Class : 2\\n', 'Predicted Class 2\\n\\n', 'Test Point: 1, 2\\n', 'Distance : 2   Class : 2\\n', 'Distance : 4   Class : 2\\n', 'Distance : 4   Class : 2\\n', 'Predicted Class 2\\n\\n', 'Test Point: 4, 8\\n', 'Distance : 5   Class : 1\\n', 'Distance : 8   Class : 1\\n', 'Distance : 10   Class : 1\\n', 'Predicted Class 1\\n\\n', 'Test Point: 8, 3\\n', 'Distance : 2   Class : 1\\n', 'Distance : 5   Class : 1\\n', 'Distance : 5   Class : 1\\n', 'Predicted Class 1\\n\\n', 'Test Point: 8, 4\\n', 'Distance : 1   Class : 1\\n', 'Distance : 2   Class : 1\\n', 'Distance : 4   Class : 1\\n', 'Predicted Class 1\\n\\n']\n"
          ]
        }
      ]
    },
    {
      "cell_type": "code",
      "source": [
        "with open('prediction.txt', 'w') as writefile:\n",
        "    for line in output_text:\n",
        "        writefile.write(line)"
      ],
      "metadata": {
        "id": "Vq5Agj-ihHbD"
      },
      "execution_count": null,
      "outputs": []
    }
  ]
}