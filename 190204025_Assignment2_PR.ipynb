{
  "nbformat": 4,
  "nbformat_minor": 0,
  "metadata": {
    "colab": {
      "provenance": [],
      "authorship_tag": "ABX9TyO7Pgt0TD6FzwEsPofQ6Wtl"
    },
    "kernelspec": {
      "name": "python3",
      "display_name": "Python 3"
    },
    "language_info": {
      "name": "python"
    }
  },
  "cells": [
    {
      "cell_type": "code",
      "execution_count": null,
      "metadata": {
        "id": "z3fHRqv74ofe"
      },
      "outputs": [],
      "source": [
        "import pandas as pd\n",
        "import numpy as np\n",
        "import matplotlib.pyplot as plt\n",
        "import sympy as sp"
      ]
    },
    {
      "cell_type": "code",
      "source": [
        "!wget -O test.txt https://raw.githubusercontent.com/nehanawar025/Pattern_Recognization_Lab/main/Assignment_2/data.txt"
      ],
      "metadata": {
        "id": "HiS1cij35MmI"
      },
      "execution_count": null,
      "outputs": []
    },
    {
      "cell_type": "code",
      "source": [
        "df = pd.read_csv('test.txt', sep=\" \" , header = None)\n",
        "df"
      ],
      "metadata": {
        "id": "M1DtCqVIv1N9"
      },
      "execution_count": null,
      "outputs": []
    },
    {
      "cell_type": "code",
      "source": [
        "x = df.iloc[:, :]\n",
        "x = np.array(x)\n",
        "\n",
        "print(x)"
      ],
      "metadata": {
        "colab": {
          "base_uri": "https://localhost:8080/"
        },
        "id": "7SIWpX_d6t-y",
        "outputId": "e59ea1fb-4a40-4986-a3da-6de3b05cb538"
      },
      "execution_count": null,
      "outputs": [
        {
          "output_type": "stream",
          "name": "stdout",
          "text": [
            "[[ 1.   1. ]\n",
            " [ 1.  -1. ]\n",
            " [ 4.   5. ]\n",
            " [-2.   2.5]\n",
            " [ 0.   2. ]\n",
            " [ 2.  -3. ]]\n"
          ]
        }
      ]
    },
    {
      "cell_type": "code",
      "source": [
        "D =  x.ndim\n",
        "D"
      ],
      "metadata": {
        "id": "OdLJkFEoEceC"
      },
      "execution_count": null,
      "outputs": []
    },
    {
      "cell_type": "code",
      "source": [
        "# Given\n",
        "w1 = 0.5\n",
        "mean1 = np.array([0., 0.])\n",
        "variance1 = np.array([[0.25, 0.3],\n",
        "                                 [0.3, 1]])\n",
        "w2 = 0.5\n",
        "mean2 = np.array([2., 2.])\n",
        "variance2 = np.array([[0.5, 0],\n",
        "                                  [0, 0.5]])"
      ],
      "metadata": {
        "id": "zQiWx1Wb8nlW"
      },
      "execution_count": null,
      "outputs": []
    },
    {
      "cell_type": "code",
      "source": [
        "# determinent1\n",
        "var_det1 =  np.linalg.det(variance1)\n",
        "var_det1\n",
        "\n",
        "# determinent2\n",
        "var_det2 =  np.linalg.det(variance2)\n",
        "var_det2"
      ],
      "metadata": {
        "id": "Dj6hSYwu9J92"
      },
      "execution_count": null,
      "outputs": []
    },
    {
      "cell_type": "code",
      "source": [
        "# inverse1\n",
        "var_inv1=np.linalg.inv(variance1)\n",
        "var_inv1\n",
        "# inverse2\n",
        "var_inv2=np.linalg.inv(variance2)\n",
        "var_inv2"
      ],
      "metadata": {
        "id": "UVkZN86GBltA"
      },
      "execution_count": null,
      "outputs": []
    },
    {
      "cell_type": "code",
      "source": [
        "output1 = np.zeros((x.shape[0],))\n",
        "for i in range(x.shape[0]):\n",
        "  X = x[i, :]\n",
        "  output1[i,] = np.exp(- 0.5 * np.dot(X - mean1, np.dot(var_inv1, (X - mean1).T))) / (((2 * 3.14) ** D) * var_det1) ** 0.5\n",
        "\n",
        "output1"
      ],
      "metadata": {
        "colab": {
          "base_uri": "https://localhost:8080/"
        },
        "id": "HEeRO5QuGJgU",
        "outputId": "3603d412-e9f9-4735-c807-a6c66807ff4f"
      },
      "execution_count": null,
      "outputs": [
        {
          "output_type": "execute_result",
          "data": {
            "text/plain": [
              "array([5.22179356e-02, 1.22804814e-03, 4.88635754e-15, 9.53257099e-13,\n",
              "       1.74908175e-02, 1.70550636e-14])"
            ]
          },
          "metadata": {},
          "execution_count": 19
        }
      ]
    },
    {
      "cell_type": "code",
      "source": [
        "# Normal1\n",
        "normal1=np.zeros((x.shape[0],))\n",
        "for i in range(x.shape[0]):\n",
        "  normal1[i,]=output1[i]*w1\n",
        "normal1"
      ],
      "metadata": {
        "colab": {
          "base_uri": "https://localhost:8080/"
        },
        "id": "3PTEQG4pHjU6",
        "outputId": "b4c4ba27-b27a-4481-cc31-c4ce9bffcfd9"
      },
      "execution_count": null,
      "outputs": [
        {
          "output_type": "execute_result",
          "data": {
            "text/plain": [
              "array([2.61089678e-02, 6.14024070e-04, 2.44317877e-15, 4.76628550e-13,\n",
              "       8.74540876e-03, 8.52753181e-15])"
            ]
          },
          "metadata": {},
          "execution_count": 20
        }
      ]
    },
    {
      "cell_type": "code",
      "source": [
        "output2 = np.zeros((x.shape[0],))\n",
        "for i in range(x.shape[0]):\n",
        "  X = x[i, :]\n",
        "  output2[i,] = np.exp(- 0.5 * np.dot(X - mean2, np.dot(var_inv2, (X - mean2).T))) / (((2 * 3.14) ** D) * var_det2) ** 0.5\n",
        "\n",
        "output2"
      ],
      "metadata": {
        "colab": {
          "base_uri": "https://localhost:8080/"
        },
        "id": "rQRf-DQvIX0Q",
        "outputId": "4f11f9bf-a582-46c7-fc42-3255cd333deb"
      },
      "execution_count": null,
      "outputs": [
        {
          "output_type": "execute_result",
          "data": {
            "text/plain": [
              "array([4.31004087e-02, 1.44585764e-05, 7.19850130e-07, 2.79116185e-08,\n",
              "       5.83300602e-03, 4.42291206e-12])"
            ]
          },
          "metadata": {},
          "execution_count": 25
        }
      ]
    },
    {
      "cell_type": "code",
      "source": [
        "# Normal 2\n",
        "normal2=np.zeros((x.shape[0],))\n",
        "for i in range(x.shape[0]):\n",
        "  normal2[i,]=output2[i]*w2\n",
        "normal2"
      ],
      "metadata": {
        "colab": {
          "base_uri": "https://localhost:8080/"
        },
        "id": "Ljuk44t_LK_C",
        "outputId": "7e44ef1a-bfb7-4230-b940-9afbf0d1fbfb"
      },
      "execution_count": null,
      "outputs": [
        {
          "output_type": "execute_result",
          "data": {
            "text/plain": [
              "array([2.15502043e-02, 7.22928818e-06, 3.59925065e-07, 1.39558093e-08,\n",
              "       2.91650301e-03, 2.21145603e-12])"
            ]
          },
          "metadata": {},
          "execution_count": 26
        }
      ]
    },
    {
      "cell_type": "code",
      "source": [
        "# Dataset Classifying\n",
        "labels = np.zeros(x.shape[0])\n",
        "\n",
        "for i in range(x.shape[0]):\n",
        "\n",
        "  print(x[i, :], 'is in', end = ' ')\n",
        "  if normal1[i] > normal2[i]:\n",
        "      labels[i] = 1\n",
        "      print('Class 1')\n",
        "  else:\n",
        "      labels[i] = 2\n",
        "      print('Class 2')\n",
        "\n",
        "print(labels)"
      ],
      "metadata": {
        "colab": {
          "base_uri": "https://localhost:8080/"
        },
        "id": "_v8DzANYMJnU",
        "outputId": "15f95955-aad9-4e4f-cabb-7c8462ccd9d9"
      },
      "execution_count": null,
      "outputs": [
        {
          "output_type": "stream",
          "name": "stdout",
          "text": [
            "[1. 1.] is in Class 1\n",
            "[ 1. -1.] is in Class 1\n",
            "[4. 5.] is in Class 2\n",
            "[-2.   2.5] is in Class 2\n",
            "[0. 2.] is in Class 1\n",
            "[ 2. -3.] is in Class 2\n",
            "[1. 1. 2. 2. 1. 2.]\n"
          ]
        }
      ]
    },
    {
      "cell_type": "code",
      "source": [
        "# Scatter plot\n",
        "scatter1 = plt.scatter(x[:, 0], x[:, 1], c=labels, cmap='RdYlBu', marker='^')\n",
        "\n",
        "plt.title('Classified Dataset')\n",
        "\n",
        "int_labels = [int(label) for label in labels]\n",
        "classes = sorted(list(set(int_labels)))\n",
        "\n",
        "legend_labels = [f'Class {cls}' for cls in classes]\n",
        "plt.legend(handles=scatter1.legend_elements()[0], labels=legend_labels, title='Classes')\n",
        "\n",
        "plt.show()"
      ],
      "metadata": {
        "colab": {
          "base_uri": "https://localhost:8080/",
          "height": 452
        },
        "id": "WeBmgdWnQdCU",
        "outputId": "fbc42a19-6161-497a-f291-a953e96b94a9"
      },
      "execution_count": null,
      "outputs": [
        {
          "output_type": "display_data",
          "data": {
            "text/plain": [
              "<Figure size 640x480 with 1 Axes>"
            ],
            "image/png": "[encoded data removed]"
          },
          "metadata": {}
        }
      ]
    },
    {
      "cell_type": "code",
      "source": [],
      "metadata": {
        "id": "4AqoQKCca_9b"
      },
      "execution_count": null,
      "outputs": []
    }
  ]
}